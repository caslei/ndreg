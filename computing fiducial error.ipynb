{
 "cells": [
  {
   "cell_type": "code",
   "execution_count": 1,
   "metadata": {},
   "outputs": [],
   "source": [
    "%matplotlib inline\n",
    "import matplotlib\n",
    "import matplotlib.pyplot as plt"
   ]
  },
  {
   "cell_type": "code",
   "execution_count": 2,
   "metadata": {},
   "outputs": [],
   "source": [
    "matplotlib.rcParams['figure.figsize'] = (5.0, 4.0)"
   ]
  },
  {
   "cell_type": "code",
   "execution_count": 3,
   "metadata": {},
   "outputs": [],
   "source": [
    "from Preprocessor import Preprocessor\n",
    "from Registerer import Registerer\n",
    "import SimpleITK as sitk\n",
    "import ndreg\n",
    "import numpy as np\n",
    "from intern.remote.boss import BossRemote\n",
    "from intern.resource.boss.resource import *"
   ]
  },
  {
   "cell_type": "code",
   "execution_count": 4,
   "metadata": {},
   "outputs": [],
   "source": [
    "import scipy"
   ]
  },
  {
   "cell_type": "code",
   "execution_count": 5,
   "metadata": {},
   "outputs": [],
   "source": [
    "def read_affine(string, scale):\n",
    "    a = np.reshape(np.array([float(i) for i in string.split()]), (4,4))\n",
    "    a[:3,3] /= scale\n",
    "    return a"
   ]
  },
  {
   "cell_type": "code",
   "execution_count": 6,
   "metadata": {},
   "outputs": [],
   "source": [
    "def fid_apply_affine(fids, affine):\n",
    "    return np.array([affine.dot(i) for i in fids])[:,:3]"
   ]
  },
  {
   "cell_type": "markdown",
   "metadata": {},
   "source": [
    "#### functions to parse viz link points"
   ]
  },
  {
   "cell_type": "code",
   "execution_count": 7,
   "metadata": {},
   "outputs": [],
   "source": [
    "import json\n",
    "import re\n",
    "def get_points_from_viz_link(link, layer):\n",
    "    link_t = link[link.find('!')+1:]\n",
    "    link_tr = link_t.replace(\"_\", \",\")\n",
    "    link_tr = link_tr.replace(\"\\'\",\"\\\"\")\n",
    "    lj = json.loads(link_tr)\n",
    "#     return lj\n",
    "    vox_size = np.array(lj['navigation']['pose']['position']['voxelSize']) / 1.0e3 # convert nm to um\n",
    "    points = np.array(lj['layers'][layer]['points'])\n",
    "    return {'points': points, 'vox_size': vox_size}\n",
    "\n",
    "def add_points_layer_to_viz_link(link, layer, points=[[]]):\n",
    "    link_t = link[link.find('!')+1:]\n",
    "    link_tr = link_t.replace(\"_\", \",\")\n",
    "    link_tr = link_tr.replace(\"\\'\",\"\\\"\")\n",
    "    lj = json.loads(link_tr)\n",
    "    lj['layers'][layer] = {'type':'pointAnnotation', 'points':points}\\\n",
    "    \n",
    "    # fix some commas that need to be underscores\n",
    "    for i in lj['layers'].keys():\n",
    "        try:\n",
    "            tmp = lj['layers'][i]['source']\n",
    "            idx = tmp.find('?')\n",
    "            lj['layers'][i]['source'] = tmp[:idx].replace(\",\",\"_\") + tmp[idx:]\n",
    "            print('replaced commas')\n",
    "        except Exception as e:\n",
    "            pass\n",
    "            print(e.message)\n",
    "    return link[:link.index('!')+1] + json.dumps(lj)\n",
    "    "
   ]
  },
  {
   "cell_type": "code",
   "execution_count": 8,
   "metadata": {},
   "outputs": [],
   "source": [
    "def plot_landmark_ortho(img, pt, refThreshold):\n",
    "    test_img = sitk.GetArrayViewFromImage(img[:,:,pt[2]]).astype('uint16')\n",
    "    plt.imshow(test_img, vmax=refThreshold, cmap='gray')\n",
    "    plt.plot(pt[0], pt[1], 'ro')\n",
    "    plt.colorbar()\n",
    "    plt.show()\n",
    "    test_img = sitk.GetArrayViewFromImage(img[:,pt[1],:]).astype('uint16')\n",
    "    plt.imshow(test_img, vmax=refThreshold, cmap='gray')\n",
    "    plt.plot(pt[0], pt[2], 'ro')\n",
    "    plt.colorbar()\n",
    "    plt.show()\n",
    "    test_img = sitk.GetArrayViewFromImage(img[pt[0],:,:]).astype('uint16')\n",
    "    plt.imshow(test_img, vmax=refThreshold, cmap='gray')\n",
    "    plt.plot(pt[1], pt[2], 'ro')\n",
    "    plt.colorbar()\n",
    "    plt.show()"
   ]
  },
  {
   "cell_type": "markdown",
   "metadata": {},
   "source": [
    "### Step 1: Load data"
   ]
  },
  {
   "cell_type": "code",
   "execution_count": 9,
   "metadata": {},
   "outputs": [],
   "source": [
    "img = ndreg.imgRead('../forVikram/ailey-dev_thy1eyfp_control_9_upload20170919_ch1_res3.img')\n",
    "atlas = ndreg.imgRead('../forVikram/average_template_50.tif')"
   ]
  },
  {
   "cell_type": "code",
   "execution_count": 10,
   "metadata": {},
   "outputs": [],
   "source": [
    "atlas.SetSpacing((0.05, 0.05, 0.05))"
   ]
  },
  {
   "cell_type": "markdown",
   "metadata": {},
   "source": [
    "### set some constants"
   ]
  },
  {
   "cell_type": "code",
   "execution_count": 211,
   "metadata": {},
   "outputs": [],
   "source": [
    "true_size_atlas = [13200.0, 8000.0, 11400.0] # mm\n",
    "true_size_raw = [13209.6, 7353.0, 11145.6] # mm\n",
    "scale_size = np.array(true_size_atlas)/np.array(true_size_raw)\n",
    "guess_size_raw = np.array([2160, 2560, 1425]) * 1.0 # mm\n",
    "center_raw = np.array(true_size_raw)/2.0 # mm\n",
    "center_atlas = np.array(true_size_atlas)/2.0 # mm\n",
    "raw_fid_o = \"RPI\"\n",
    "atlas_fid_o = \"PIR\"\n",
    "trans_o = \"PIR\"\n",
    "pad = 20 # voxel padding for phis, phiinvs, and x,y,z"
   ]
  },
  {
   "cell_type": "code",
   "execution_count": 12,
   "metadata": {},
   "outputs": [
    {
     "data": {
      "text/plain": [
       "array([ 0.99927326,  1.0879913 ,  1.02282515])"
      ]
     },
     "execution_count": 12,
     "metadata": {},
     "output_type": "execute_result"
    }
   ],
   "source": [
    "scale_size"
   ]
  },
  {
   "cell_type": "code",
   "execution_count": 13,
   "metadata": {},
   "outputs": [],
   "source": [
    "# read inv displacement fields\n",
    "phiinvx = ndreg.imgRead('../ndreg/control9_for_vikram_nov_12/phiinvx.img')[pad:-pad, pad:-pad, pad:-pad]\n",
    "phiinvy = ndreg.imgRead('../ndreg/control9_for_vikram_nov_12/phiinvy.img')[pad:-pad, pad:-pad, pad:-pad]\n",
    "phiinvz = ndreg.imgRead('../ndreg/control9_for_vikram_nov_12/phiinvz.img')[pad:-pad, pad:-pad, pad:-pad]"
   ]
  },
  {
   "cell_type": "code",
   "execution_count": 14,
   "metadata": {},
   "outputs": [],
   "source": [
    "# read inv displacement fields\n",
    "phix = ndreg.imgRead('../ndreg/control9_for_vikram_nov_12/phix.img')[pad:-pad, pad:-pad, pad:-pad]\n",
    "phiy = ndreg.imgRead('../ndreg/control9_for_vikram_nov_12/phiy.img')[pad:-pad, pad:-pad, pad:-pad]\n",
    "phiz = ndreg.imgRead('../ndreg/control9_for_vikram_nov_12/phiz.img')[pad:-pad, pad:-pad, pad:-pad]\n",
    "# phix = ndreg.imgRead('../ndreg/control9_for_vikram_nov_12/phix.img')\n",
    "# phiy = ndreg.imgRead('../ndreg/control9_for_vikram_nov_12/phiy.img')\n",
    "# phiz = ndreg.imgRead('../ndreg/control9_for_vikram_nov_12/phiz.img')"
   ]
  },
  {
   "cell_type": "code",
   "execution_count": 67,
   "metadata": {},
   "outputs": [],
   "source": [
    "# read grids\n",
    "x = ndreg.imgRead('../ndreg/control9_for_vikram_nov_12/x.img')[pad:-pad, pad:-pad, pad:-pad]\n",
    "y = ndreg.imgRead('../ndreg/control9_for_vikram_nov_12/y.img')[pad:-pad, pad:-pad, pad:-pad]\n",
    "z = ndreg.imgRead('../ndreg/control9_for_vikram_nov_12/z.img')[pad:-pad, pad:-pad, pad:-pad]"
   ]
  },
  {
   "cell_type": "code",
   "execution_count": 16,
   "metadata": {},
   "outputs": [],
   "source": [
    "t2a_s = \"\"\"0.986066 -0.094286 0.024768 516.012050\n",
    "0.089707 0.992495 -0.013788 -443.893828\n",
    "-0.009284 0.016666 0.950780 190.920903\n",
    "0.000000 0.000000 0.000000 1.000000\n",
    "\"\"\"\n",
    "a2t_s = \"\"\"1.005173 0.095907 -0.024794 -471.375106\n",
    "-0.090695 0.998663 0.016845 486.883867\n",
    "0.011405 -0.016569 1.051231 -213.941982\n",
    "0.000000 0.000000 0.000000 1.000000\n",
    "\"\"\""
   ]
  },
  {
   "cell_type": "code",
   "execution_count": 17,
   "metadata": {},
   "outputs": [],
   "source": [
    "scale = 1.0 # convert from um to X"
   ]
  },
  {
   "cell_type": "code",
   "execution_count": 18,
   "metadata": {},
   "outputs": [],
   "source": [
    "t2a = read_affine(t2a_s, scale)\n",
    "a2t = read_affine(a2t_s, scale)"
   ]
  },
  {
   "cell_type": "code",
   "execution_count": 19,
   "metadata": {},
   "outputs": [],
   "source": [
    "phix_np = sitk.GetArrayViewFromImage(phix)\n",
    "phiy_np = sitk.GetArrayViewFromImage(phiy)\n",
    "phiz_np = sitk.GetArrayViewFromImage(phiz)\n",
    "phiinvx_np = sitk.GetArrayViewFromImage(phiinvx)\n",
    "phiinvy_np = sitk.GetArrayViewFromImage(phiinvy)\n",
    "phiinvz_np = sitk.GetArrayViewFromImage(phiinvz)"
   ]
  },
  {
   "cell_type": "code",
   "execution_count": 20,
   "metadata": {},
   "outputs": [],
   "source": [
    "phi = np.zeros(phix_np.shape + (3,))\n",
    "phiinv = np.zeros(phiinvx_np.shape + (3,))"
   ]
  },
  {
   "cell_type": "code",
   "execution_count": 21,
   "metadata": {},
   "outputs": [],
   "source": [
    "phi[:,:,:,0] = phix_np\n",
    "phi[:,:,:,1] = phiy_np\n",
    "phi[:,:,:,2] = phiz_np\n",
    "phiinv[:,:,:,0] = phiinvx_np\n",
    "phiinv[:,:,:,1] = phiinvy_np\n",
    "phiinv[:,:,:,2] = phiinvz_np"
   ]
  },
  {
   "cell_type": "markdown",
   "metadata": {},
   "source": [
    "## load fiducials"
   ]
  },
  {
   "cell_type": "code",
   "execution_count": 43,
   "metadata": {},
   "outputs": [],
   "source": [
    "r = Registerer(atlas, img, \"ASR\", \"LPS\")"
   ]
  },
  {
   "cell_type": "code",
   "execution_count": 44,
   "metadata": {},
   "outputs": [],
   "source": [
    "afid = r._parse_fiducial_file('../Manual Fiducials/Control9/average_template_10-landmarks.fcsv', 0.01/10.0)\n",
    "rfid = r._parse_fiducial_file('../Manual Fiducials/Control9/Control9Auto-landmarks.fcsv', 0.00516/1.0)\n",
    "# rfid = r._parse_fiducial_file('../Manual Fiducials/Control9/Control9Auto-landmarks.fcsv', 1.0/1.0)"
   ]
  },
  {
   "cell_type": "code",
   "execution_count": 45,
   "metadata": {},
   "outputs": [],
   "source": [
    "atlas_link = \"https://viz.boss.neurodata.io/#!{'layers':{'average,10um':{'type':'image'_'source':'boss://https://api.boss.neurodata.io/ara_2016/sagittal_10um/average_10um?window=0,500'_'opacity':0.5_'max':0.73}_'fiducials':{'type':'pointAnnotation'_'points':[[856.4130249023438_596.4749755859375_567.3800048828125]_[429.34600830078125_385.6579895019531_567.2789916992188]_[726.6300048828125_223.68699645996094_413.37701416015625]_[743.4439697265625_220.74200439453125_726.43798828125]_[1086.510009765625_179.08900451660156_574.9819946289062]_[845.3040161132812_373.6520080566406_899.3489990234375]_[842.4249877929688_373.7869873046875_242.19097900390625]_[422.84100341796875_386.5840148925781_575.4089965820312]_[418.4840087890625_544.5599975585938_453.77301025390625]_[419.5530090332031_546.2000122070312_690.2919921875]_[1061.989990234375_108.91500091552734_481.458984375]_[1062.5999755859375_107.93299865722656_659.166015625]_[305.2640075683594_424.6080017089844_437.38897705078125]_[315.79998779296875_424.5989990234375_699.3399658203125]_[356.3429870605469_510.0050048828125_677.0899658203125]_[348.364990234375_518.1950073242188_467.072021484375]_[411.2929992675781_367.7699890136719_605.97998046875]_[413.6659851074219_372.2860107421875_542.6339721679688]_[383.4259948730469_364.40399169921875_732.3609619140625]_[386.55999755859375_388.53900146484375_422.14697265625]_[520.260009765625_542.1240234375_571.7949829101562]_[607.6909790039062_245.38400268554688_496.03900146484375]_[605.8629760742188_239.53900146484375_645.1309814453125]_[643.8519897460938_263.40899658203125_602.1900024414062]_[634.6740112304688_254.8509979248047_541.1610107421875]_[717.6199951171875_288.0530090332031_273.52899169921875]_[724.35400390625_307.9209899902344_870.052978515625]_[1052.530029296875_253.63400268554688_574.5969848632812]_[1094.3499755859375_352.6419982910156_418.760009765625]_[1090.8699951171875_322.1719970703125_711.47998046875]_[1104.2099609375_318.40399169921875_192.0989990234375]_[1047.1700439453125_687.208984375_702.7760009765625]_[1048.260009765625_687.0330200195312_442.9110107421875]_[1196.7099609375_311.8699951171875_575.844970703125]_[1106.6800537109375_221.8979949951172_565.8419799804688]_[1108.6700439453125_283.7229919433594_292.98602294921875]_[1071.72998046875_617.6190185546875_160.2979736328125]_[1055.0899658203125_608.2420043945312_995.5590209960938]_[1192.6099853515625_344.87298583984375_445.614013671875]_[1187.6800537109375_344.87298583984375_699.77001953125]_[993.7529907226562_347.2449951171875_346.4940185546875]_[981.4149780273438_347.2449951171875_783.2479858398438]_[969.166015625_513.8480224609375_771.385009765625]_[980.9520263671875_446.0069885253906_366.71002197265625]_[882.6710205078125_288.2760009765625_323.416015625]_[889.0819702148438_297.093994140625_820.8250122070312]_[803.4619750976562_21.38640022277832_477.552978515625]_[813.301025390625_27.085899353027344_654.636962890625]_[907.7329711914062_113.98600006103516_534.4010009765625]_[874.052001953125_131.7899932861328_593.1680297851562]_[1181.72998046875_255.59300231933594_781.509033203125]_[1177.6700439453125_248.6510009765625_353.7239990234375]_[1045.97998046875_225.4530029296875_904.072021484375]_[905.8579711914062_480.2330017089844_829.2219848632812]_[827.6610107421875_343.0589904785156_56.6400146484375]]}}_'navigation':{'pose':{'position':{'voxelSize':[10000_10000_10000]_'voxelCoordinates':[827.6610107421875_343.0589904785156_232.63999938964844]}}_'zoomFactor':25703.3403895381}_'perspectiveOrientation':[-0.5007818341255188_-0.4948247969150543_-0.48889824748039246_0.5151069760322571]_'perspectiveZoom':252192.47527422346_'layout':'4panel'}\"\n",
    "control9_link = \"https://viz.boss.neurodata.io/#!{'layers':{'Ch1':{'type':'image'_'source':'boss://https://api.boss.neurodata.io/ailey-dev/Thy1eYFP_Control_9_upload20170919/Ch1?window=0,10000'_'opacity':0.5_'max':0.22}_'fiducials':{'type':'pointAnnotation'_'points':[[1022.3200073242188_1622.8199462890625_1078.8800048828125]_[1022.3200073242188_693.6110229492188_866.1690063476562]_[625.031005859375_1337.9300537109375_419.3179931640625]_[1379.0400390625_1250.4599609375_407.3059997558594]_[1042.3299560546875_2020.6800537109375_307.3059997558594]_[1731.3299560546875_1535.3699951171875_727.5330200195312]_[365.6629943847656_1565.31005859375_743.5800170898438]_[1005.739990234375_697.1519775390625_860.3709716796875]_[748.9910278320312_681.9400024414062_1188.4599609375]_[1269.7099609375_686.9290161132812_1201.3199462890625]_[851.2659912109375_1938.8299560546875_212.99600219726562]_[1242.219970703125_1950.1400146484375_196.11399841308594]_[757.8770141601562_503.5_1022.6500244140625]_[1251.739990234375_483.5_1059.4000244140625]_[1222.4200439453125_593.5_1164.699951171875]_[792.5969848632812_623.5_1158.1500244140625]_[1051.9300537109375_663.5_841.2999877929688]_[939.6229858398438_673.5_852.7899780273438]_[1364.9300537109375_613.5_885.9290161132812]_[707.7949829101562_663.5_864.947021484375]_[1006.8200073242188_933.5_1064.06005859375]_[869.2540283203125_976.3319702148438_534.1220092773438]_[1190.239990234375_979.3209838867188_511.12701416015625]_[1058.449951171875_1059.3199462890625_527.197998046875]_[968.4550170898438_1059.3199462890625_530.4130249023438]_[413.760986328125_1255.3199462890625_556.1270141601562]_[1681.1099853515625_1247.3199462890625_589.18798828125]_[1038.25_1902.3199462890625_523.0659790039062]_[744.3729858398438_2062.320068359375_512.0449829101562]_[1225.5999755859375_2035.3199462890625_449.59600830078125]_[329.27099609375_2036.3199462890625_589.18798828125]_[1247.6400146484375_2036.3199462890625_1257.760009765625]_[784.781982421875_2036.3199462890625_1224.699951171875]_[1049.27001953125_2286.320068359375_482.6579895019531]_[1053.8199462890625_2059.0400390625_335.6579895019531]_[358.3340148925781_2045.4000244140625_521.6580200195312]_[223.33399963378906_2045.4000244140625_1010.22998046875]_[1856.18994140625_2034.4000244140625_1103.43994140625]_[801.0499877929688_2272.669921875_566.6580200195312]_[1276.530029296875_2269.909912109375_609.1829833984375]_[667.0059814453125_1876.489990234375_719.1829833984375]_[1435.9100341796875_1868.3199462890625_702.7479858398438]_[1438.260009765625_1868.3199462890625_855.6060180664062]_[658.8189697265625_1859.4200439453125_699.6950073242188]_[460.72100830078125_1582.7099609375_585.9569702148438]_[1619.3199462890625_1566.47998046875_585.9569702148438]_[697.7000122070312_1404.6500244140625_46.359798431396484]_[1343.3900146484375_1444.0400390625_27.424299240112305]_[994.3099975585938_1566.47998046875_225.95700073242188]_[1105.4200439453125_1571.6199951171875_225.95700073242188]_[1480.6700439453125_2235.18994140625_415.9570007324219]_[598.7329711914062_2192.43994140625_415.9570007324219]_[1735.3299560546875_1848.8599853515625_415.9570007324219]_[1565.25_1647.760009765625_865.9569702148438]_[43.448699951171875_1554.1300048828125_629.6489868164062]]}}_'navigation':{'pose':{'position':{'voxelSize':[5160_5160_5160]_'voxelCoordinates':[43.448699951171875_1554.1300048828125_629.6489868164062]}}_'zoomFactor':29268.868618995297}_'perspectiveOrientation':[0.01311181578785181_0.006101356819272041_0.011622224934399128_0.9998260736465454]_'perspectiveZoom':240303.3975210289_'layout':'4panel'}\""
   ]
  },
  {
   "cell_type": "code",
   "execution_count": 46,
   "metadata": {},
   "outputs": [],
   "source": [
    "control9_pts = get_points_from_viz_link(control9_link, 'fiducials')\n",
    "atlas_pts = get_points_from_viz_link(atlas_link, 'fiducials')"
   ]
  },
  {
   "cell_type": "code",
   "execution_count": 47,
   "metadata": {},
   "outputs": [],
   "source": [
    "rfid = control9_pts['points'] * control9_pts['vox_size']\n",
    "afid = atlas_pts['points'] * atlas_pts['vox_size']"
   ]
  },
  {
   "cell_type": "markdown",
   "metadata": {},
   "source": [
    "#### rescale data to match daniel's range:\n",
    "**PIR**\n",
    "- x: [-6575, 6575]\n",
    "- y: [-3975,3975]\n",
    "- z: [-5675, 5675]"
   ]
  },
  {
   "cell_type": "code",
   "execution_count": 48,
   "metadata": {},
   "outputs": [
    {
     "data": {
      "text/plain": [
       "array([  224.19529175,  8019.3108252 ,  3248.98877197])"
      ]
     },
     "execution_count": 48,
     "metadata": {},
     "output_type": "execute_result"
    }
   ],
   "source": [
    "rfid[-1]"
   ]
  },
  {
   "cell_type": "code",
   "execution_count": 49,
   "metadata": {},
   "outputs": [
    {
     "data": {
      "text/plain": [
       "array([ 8276.61010742,  3430.58990479,   566.40014648])"
      ]
     },
     "execution_count": 49,
     "metadata": {},
     "output_type": "execute_result"
    }
   ],
   "source": [
    "afid[-1]"
   ]
  },
  {
   "cell_type": "code",
   "execution_count": 50,
   "metadata": {},
   "outputs": [],
   "source": [
    "min_vals_a = np.array([-6575, -3975, -5675])\n",
    "max_vals_a = np.array([6575, 3975, 5675])\n",
    "max_vals_r = np.array(true_size_raw)[[2,0,1]]\n",
    "min_vals_r = np.zeros((1,3))\n",
    "max_vals_a2 = np.array(true_size_atlas)\n",
    "min_vals_a2 = np.zeros((1,3))\n",
    "# first rescale [0,1]\n",
    "rfid_norm = (rfid - min_vals_r)/(max_vals_r - min_vals_r)\n",
    "# then rescale to scales above\n",
    "rfid_rescaled = min_vals_a[[2,0,1]]*(1.0 - rfid_norm) + max_vals_a[[2,0,1]]*rfid_norm\n",
    "# now same for atlas fiducials\n",
    "afid_norm = (afid - min_vals_a2)/(max_vals_a2 - min_vals_a2)\n",
    "# same for rescaling\n",
    "afid_rescaled = min_vals_a * (1.0 - afid_norm) + max_vals_a * afid_norm"
   ]
  },
  {
   "cell_type": "code",
   "execution_count": 51,
   "metadata": {
    "scrolled": false
   },
   "outputs": [
    {
     "data": {
      "text/plain": [
       "array([-5446.69317387,  1408.12873602,  -462.22144197])"
      ]
     },
     "execution_count": 51,
     "metadata": {},
     "output_type": "execute_result"
    }
   ],
   "source": [
    "rfid_rescaled[-1]"
   ]
  },
  {
   "cell_type": "code",
   "execution_count": 52,
   "metadata": {},
   "outputs": [
    {
     "data": {
      "text/plain": [
       "array([ 1670.25931156,  -565.85128212, -5111.08406468])"
      ]
     },
     "execution_count": 52,
     "metadata": {},
     "output_type": "execute_result"
    }
   ],
   "source": [
    "afid_rescaled[-1]"
   ]
  },
  {
   "cell_type": "code",
   "execution_count": 53,
   "metadata": {},
   "outputs": [],
   "source": [
    "afid_r = r._reorient_landmarks(afid_rescaled, atlas_fid_o, trans_o)\n",
    "rfid_r = r._reorient_landmarks(rfid_rescaled, raw_fid_o, trans_o)"
   ]
  },
  {
   "cell_type": "code",
   "execution_count": 54,
   "metadata": {},
   "outputs": [
    {
     "data": {
      "text/plain": [
       "array([ 1670.25931156,  -565.85128212, -5111.08406468])"
      ]
     },
     "execution_count": 54,
     "metadata": {},
     "output_type": "execute_result"
    }
   ],
   "source": [
    "afid_r[-1]"
   ]
  },
  {
   "cell_type": "code",
   "execution_count": 55,
   "metadata": {
    "scrolled": true
   },
   "outputs": [
    {
     "data": {
      "text/plain": [
       "array([ 1408.12873602,  -462.22144197, -5446.69317387])"
      ]
     },
     "execution_count": 55,
     "metadata": {},
     "output_type": "execute_result"
    }
   ],
   "source": [
    "rfid_r[-1]"
   ]
  },
  {
   "cell_type": "code",
   "execution_count": 56,
   "metadata": {},
   "outputs": [
    {
     "data": {
      "text/plain": [
       "882.04520122966301"
      ]
     },
     "execution_count": 56,
     "metadata": {},
     "output_type": "execute_result"
    }
   ],
   "source": [
    "np.mean(r._compute_error(afid_r, rfid_r))"
   ]
  },
  {
   "cell_type": "code",
   "execution_count": 57,
   "metadata": {},
   "outputs": [],
   "source": [
    "rfid_rh = np.append(rfid_r, np.ones((rfid_r.shape[0],1)), axis=1)"
   ]
  },
  {
   "cell_type": "code",
   "execution_count": 58,
   "metadata": {},
   "outputs": [
    {
     "data": {
      "text/plain": [
       "array([  1.40812874e+03,  -4.62221442e+02,  -5.44669317e+03,\n",
       "         1.00000000e+00])"
      ]
     },
     "execution_count": 58,
     "metadata": {},
     "output_type": "execute_result"
    }
   ],
   "source": [
    "rfid_rh[-1]"
   ]
  },
  {
   "cell_type": "code",
   "execution_count": 59,
   "metadata": {},
   "outputs": [],
   "source": [
    "rfid_a2t = fid_apply_affine(rfid_rh, a2t)\n",
    "rfid_t2a = fid_apply_affine(rfid_rh, t2a)"
   ]
  },
  {
   "cell_type": "code",
   "execution_count": 60,
   "metadata": {},
   "outputs": [
    {
     "data": {
      "text/plain": [
       "array([ 1034.75291869,  -194.17936713, -5915.95643855])"
      ]
     },
     "execution_count": 60,
     "metadata": {},
     "output_type": "execute_result"
    }
   ],
   "source": [
    "rfid_a2t[-1]"
   ]
  },
  {
   "cell_type": "code",
   "execution_count": 61,
   "metadata": {},
   "outputs": [
    {
     "data": {
      "text/plain": [
       "array([ 1813.19723456,  -701.22828805, -5008.46248259])"
      ]
     },
     "execution_count": 61,
     "metadata": {},
     "output_type": "execute_result"
    }
   ],
   "source": [
    "rfid_t2a[-1]"
   ]
  },
  {
   "cell_type": "code",
   "execution_count": 62,
   "metadata": {},
   "outputs": [
    {
     "data": {
      "text/plain": [
       "array([ 1670.25931156,  -565.85128212, -5111.08406468])"
      ]
     },
     "execution_count": 62,
     "metadata": {},
     "output_type": "execute_result"
    }
   ],
   "source": [
    "afid_r[-1]"
   ]
  },
  {
   "cell_type": "code",
   "execution_count": 63,
   "metadata": {},
   "outputs": [
    {
     "data": {
      "text/plain": [
       "1536.318132724841"
      ]
     },
     "execution_count": 63,
     "metadata": {},
     "output_type": "execute_result"
    }
   ],
   "source": [
    "np.mean(r._compute_error(afid_r, rfid_a2t))"
   ]
  },
  {
   "cell_type": "code",
   "execution_count": 64,
   "metadata": {},
   "outputs": [
    {
     "data": {
      "text/plain": [
       "450.15524887560514"
      ]
     },
     "execution_count": 64,
     "metadata": {},
     "output_type": "execute_result"
    }
   ],
   "source": [
    "np.mean(r._compute_error(afid_r, rfid_t2a))"
   ]
  },
  {
   "cell_type": "code",
   "execution_count": 68,
   "metadata": {},
   "outputs": [],
   "source": [
    "xyz_h = np.zeros(phi.shape)"
   ]
  },
  {
   "cell_type": "code",
   "execution_count": 69,
   "metadata": {},
   "outputs": [],
   "source": [
    "xyz_h[:,:,:,0] = sitk.GetArrayViewFromImage(x)\n",
    "xyz_h[:,:,:,1] = sitk.GetArrayViewFromImage(y)\n",
    "xyz_h[:,:,:,2] = sitk.GetArrayViewFromImage(z)"
   ]
  },
  {
   "cell_type": "code",
   "execution_count": 70,
   "metadata": {},
   "outputs": [],
   "source": [
    "x_i = xyz_h[0,:,0,0]\n",
    "y_i = xyz_h[0,0,:,1]\n",
    "z_i = xyz_h[:,0,0,2]"
   ]
  },
  {
   "cell_type": "code",
   "execution_count": null,
   "metadata": {},
   "outputs": [],
   "source": []
  },
  {
   "cell_type": "code",
   "execution_count": 74,
   "metadata": {},
   "outputs": [],
   "source": [
    "# afid_lddmm = scipy.interpolate.interpn(xyz, phi, afid_c[:,[2,0,1]])\n",
    "afid_lddmm_x = scipy.interpolate.interpn((z_i, x_i, y_i), phix_np, afid_r[:,[2,0,1]])\n",
    "afid_lddmm_y = scipy.interpolate.interpn((z_i, x_i, y_i), phiy_np, afid_r[:,[2,0,1]])\n",
    "afid_lddmm_z = scipy.interpolate.interpn((z_i, x_i, y_i), phiz_np, afid_r[:,[2,0,1]])"
   ]
  },
  {
   "cell_type": "code",
   "execution_count": 75,
   "metadata": {},
   "outputs": [],
   "source": [
    "afid_lddmm = np.array([[i, j, k] for i,j,k in zip(afid_lddmm_x, afid_lddmm_y, afid_lddmm_z)])"
   ]
  },
  {
   "cell_type": "code",
   "execution_count": 83,
   "metadata": {},
   "outputs": [
    {
     "data": {
      "text/plain": [
       "array([ 1670.25931156,  -565.85128212, -5111.08406468])"
      ]
     },
     "execution_count": 83,
     "metadata": {},
     "output_type": "execute_result"
    }
   ],
   "source": [
    "afid_r[-1]"
   ]
  },
  {
   "cell_type": "code",
   "execution_count": 76,
   "metadata": {
    "scrolled": true
   },
   "outputs": [
    {
     "data": {
      "text/plain": [
       "array([ 1610.59701002,  -640.53632873, -5074.51001107])"
      ]
     },
     "execution_count": 76,
     "metadata": {},
     "output_type": "execute_result"
    }
   ],
   "source": [
    "afid_lddmm[-1]"
   ]
  },
  {
   "cell_type": "code",
   "execution_count": 77,
   "metadata": {},
   "outputs": [
    {
     "data": {
      "text/plain": [
       "array([ 1034.75291869,  -194.17936713, -5915.95643855])"
      ]
     },
     "execution_count": 77,
     "metadata": {},
     "output_type": "execute_result"
    }
   ],
   "source": [
    "rfid_a2t[-1]"
   ]
  },
  {
   "cell_type": "code",
   "execution_count": 78,
   "metadata": {},
   "outputs": [
    {
     "data": {
      "text/plain": [
       "array([ 1813.19723456,  -701.22828805, -5008.46248259])"
      ]
     },
     "execution_count": 78,
     "metadata": {},
     "output_type": "execute_result"
    }
   ],
   "source": [
    "rfid_t2a[-1]"
   ]
  },
  {
   "cell_type": "code",
   "execution_count": 79,
   "metadata": {
    "scrolled": true
   },
   "outputs": [
    {
     "data": {
      "text/plain": [
       "1461.9049528223227"
      ]
     },
     "execution_count": 79,
     "metadata": {},
     "output_type": "execute_result"
    }
   ],
   "source": [
    "np.mean(r._compute_error(rfid_a2t, afid_lddmm))"
   ]
  },
  {
   "cell_type": "code",
   "execution_count": 80,
   "metadata": {},
   "outputs": [
    {
     "data": {
      "text/plain": [
       "373.63209541014544"
      ]
     },
     "execution_count": 80,
     "metadata": {},
     "output_type": "execute_result"
    }
   ],
   "source": [
    "np.mean(r._compute_error(rfid_t2a, afid_lddmm))"
   ]
  },
  {
   "cell_type": "code",
   "execution_count": 276,
   "metadata": {
    "scrolled": false
   },
   "outputs": [
    {
     "data": {
      "text/plain": [
       "array([[  66.09652932],\n",
       "       [ 219.0672453 ],\n",
       "       [ 786.67863578],\n",
       "       [ 375.46435085],\n",
       "       [ 203.92895486],\n",
       "       [ 287.78621937],\n",
       "       [ 388.24758279],\n",
       "       [ 116.76222036],\n",
       "       [ 367.71574061],\n",
       "       [ 437.69876699],\n",
       "       [ 206.0404683 ],\n",
       "       [ 267.38220981],\n",
       "       [ 399.21325358],\n",
       "       [ 581.54545287],\n",
       "       [ 346.95044267],\n",
       "       [ 267.8280555 ],\n",
       "       [ 184.41234466],\n",
       "       [ 218.09571782],\n",
       "       [ 378.65348687],\n",
       "       [ 165.47428259],\n",
       "       [  82.96872061],\n",
       "       [ 131.22203526],\n",
       "       [ 134.99625478],\n",
       "       [ 257.0896286 ],\n",
       "       [ 107.72542154],\n",
       "       [ 259.43974287],\n",
       "       [ 355.98781228],\n",
       "       [ 323.4149485 ],\n",
       "       [ 720.4704984 ],\n",
       "       [ 939.96329361],\n",
       "       [ 288.22681408],\n",
       "       [ 525.93586695],\n",
       "       [ 305.35322403],\n",
       "       [ 321.08427664],\n",
       "       [ 323.57115365],\n",
       "       [ 655.56537581],\n",
       "       [ 465.27968724],\n",
       "       [ 479.90926761],\n",
       "       [ 174.20995905],\n",
       "       [ 230.68346104],\n",
       "       [ 592.2567223 ],\n",
       "       [ 524.44084455],\n",
       "       [ 393.65255953],\n",
       "       [ 655.24376265],\n",
       "       [ 559.9796584 ],\n",
       "       [ 472.15524358],\n",
       "       [ 937.45182112],\n",
       "       [ 976.62805518],\n",
       "       [ 216.19380944],\n",
       "       [ 599.0059017 ],\n",
       "       [ 384.29930636],\n",
       "       [ 378.6464095 ],\n",
       "       [ 234.40213192],\n",
       "       [  55.70102593],\n",
       "       [ 221.56859193]])"
      ]
     },
     "execution_count": 276,
     "metadata": {},
     "output_type": "execute_result"
    }
   ],
   "source": [
    "r._compute_error(rfid_t2a, afid_lddmm)"
   ]
  },
  {
   "cell_type": "code",
   "execution_count": 94,
   "metadata": {},
   "outputs": [],
   "source": [
    "afid_lddmm_h = np.append(afid_lddmm, np.ones((afid_lddmm.shape[0],1)), axis=1)"
   ]
  },
  {
   "cell_type": "code",
   "execution_count": 95,
   "metadata": {},
   "outputs": [
    {
     "data": {
      "text/plain": [
       "array([  1.61059701e+03,  -6.40536329e+02,  -5.07451001e+03,\n",
       "         1.00000000e+00])"
      ]
     },
     "execution_count": 95,
     "metadata": {},
     "output_type": "execute_result"
    }
   ],
   "source": [
    "afid_lddmm_h[-1]"
   ]
  },
  {
   "cell_type": "code",
   "execution_count": 96,
   "metadata": {},
   "outputs": [],
   "source": [
    "afid_lddmm_af1 = fid_apply_affine(afid_lddmm_h, t2a)\n",
    "afid_lddmm_af2 = fid_apply_affine(afid_lddmm_h, a2t)"
   ]
  },
  {
   "cell_type": "code",
   "execution_count": 97,
   "metadata": {},
   "outputs": [
    {
     "data": {
      "text/plain": [
       "array([ 5980.03525117, -1334.48197561,  2078.77533927])"
      ]
     },
     "execution_count": 97,
     "metadata": {},
     "output_type": "execute_result"
    }
   ],
   "source": [
    "afid_lddmm_af1[-5]"
   ]
  },
  {
   "cell_type": "code",
   "execution_count": 98,
   "metadata": {},
   "outputs": [
    {
     "data": {
      "text/plain": [
       "array([ 4735.5234815 , -1315.86251764,  2036.87295865])"
      ]
     },
     "execution_count": 98,
     "metadata": {},
     "output_type": "execute_result"
    }
   ],
   "source": [
    "afid_lddmm_af2[-5]"
   ]
  },
  {
   "cell_type": "code",
   "execution_count": 99,
   "metadata": {},
   "outputs": [
    {
     "data": {
      "text/plain": [
       "array([ 4906.54208183, -1654.39778539,  2105.37268462])"
      ]
     },
     "execution_count": 99,
     "metadata": {},
     "output_type": "execute_result"
    }
   ],
   "source": [
    "rfid_r[-5]"
   ]
  },
  {
   "cell_type": "code",
   "execution_count": 260,
   "metadata": {
    "scrolled": true
   },
   "outputs": [
    {
     "data": {
      "text/plain": [
       "381.79759452677854"
      ]
     },
     "execution_count": 260,
     "metadata": {},
     "output_type": "execute_result"
    }
   ],
   "source": [
    "np.mean(r._compute_error(rfid_r, afid_lddmm_af2))"
   ]
  },
  {
   "cell_type": "code",
   "execution_count": 251,
   "metadata": {},
   "outputs": [
    {
     "data": {
      "text/plain": [
       "array([ 1211.93900588,  -384.34928162, -5519.44231012])"
      ]
     },
     "execution_count": 251,
     "metadata": {},
     "output_type": "execute_result"
    }
   ],
   "source": [
    "afid_lddmm_af2[-1]"
   ]
  },
  {
   "cell_type": "code",
   "execution_count": 262,
   "metadata": {},
   "outputs": [],
   "source": [
    "afid_lddmm_n = (afid_lddmm_af2 + max_vals_a)/np.array([13150.0, 7950.0, 11350.0])"
   ]
  },
  {
   "cell_type": "code",
   "execution_count": 263,
   "metadata": {},
   "outputs": [
    {
     "data": {
      "text/plain": [
       "array([[ 0.63128432,  0.76046095,  0.46872981],\n",
       "       [ 0.27303424,  0.58730944,  0.45991871],\n",
       "       [ 0.48288003,  0.30556415,  0.34431701],\n",
       "       [ 0.48692226,  0.31576561,  0.61159665],\n",
       "       [ 0.78645204,  0.23877022,  0.49011124],\n",
       "       [ 0.58483198,  0.49921326,  0.78396217],\n",
       "       [ 0.5905498 ,  0.4902711 ,  0.18092032],\n",
       "       [ 0.26777101,  0.59112025,  0.46669032],\n",
       "       [ 0.28543655,  0.80640819,  0.36115249],\n",
       "       [ 0.28785462,  0.80047546,  0.57712323],\n",
       "       [ 0.75706422,  0.16633919,  0.40862644],\n",
       "       [ 0.75237392,  0.16490686,  0.5662393 ],\n",
       "       [ 0.18627744,  0.67123365,  0.3438397 ],\n",
       "       [ 0.19395957,  0.67210482,  0.59026344],\n",
       "       [ 0.23842747,  0.77583723,  0.55954377],\n",
       "       [ 0.22980673,  0.79004965,  0.37527738],\n",
       "       [ 0.26163206,  0.5705814 ,  0.49539566],\n",
       "       [ 0.26294505,  0.57127492,  0.43816958],\n",
       "       [ 0.25029616,  0.57786865,  0.62662544],\n",
       "       [ 0.24742127,  0.5997399 ,  0.33039213],\n",
       "       [ 0.36141416,  0.75432418,  0.46970262],\n",
       "       [ 0.38900173,  0.36458391,  0.40477211],\n",
       "       [ 0.38532436,  0.36825319,  0.54119017],\n",
       "       [ 0.41707071,  0.39686436,  0.50269426],\n",
       "       [ 0.41003674,  0.37901852,  0.44108746],\n",
       "       [ 0.49322619,  0.3988666 ,  0.21443502],\n",
       "       [ 0.48614558,  0.43486944,  0.74935993],\n",
       "       [ 0.74912727,  0.32907092,  0.48859269],\n",
       "       [ 0.80594053,  0.44962099,  0.3369827 ],\n",
       "       [ 0.79488482,  0.4134567 ,  0.61649175],\n",
       "       [ 0.80114921,  0.41884136,  0.12684196],\n",
       "       [ 0.78265797,  0.83741988,  0.61005139],\n",
       "       [ 0.78726844,  0.83929175,  0.34144294],\n",
       "       [ 0.8860229 ,  0.37675748,  0.49131881],\n",
       "       [ 0.80952729,  0.27495454,  0.48298255],\n",
       "       [ 0.80864117,  0.37998251,  0.22444178],\n",
       "       [ 0.8071868 ,  0.75688527,  0.0803872 ],\n",
       "       [ 0.7762213 ,  0.7553039 ,  0.89556189],\n",
       "       [ 0.88752071,  0.41803707,  0.36484002],\n",
       "       [ 0.87576421,  0.41571887,  0.60565322],\n",
       "       [ 0.72031255,  0.45692436,  0.26966052],\n",
       "       [ 0.70000007,  0.45767143,  0.68521869],\n",
       "       [ 0.72057031,  0.64480118,  0.6778959 ],\n",
       "       [ 0.72970126,  0.56342374,  0.27593544],\n",
       "       [ 0.61422084,  0.38276302,  0.26060804],\n",
       "       [ 0.60738895,  0.40213028,  0.70688431],\n",
       "       [ 0.53853813,  0.06327561,  0.40613435],\n",
       "       [ 0.5398984 ,  0.08339031,  0.55095572],\n",
       "       [ 0.60947627,  0.18474577,  0.45563767],\n",
       "       [ 0.58053634,  0.20831546,  0.50181684],\n",
       "       [ 0.86011585,  0.3344827 ,  0.67946017],\n",
       "       [ 0.86831153,  0.33107386,  0.29114018],\n",
       "       [ 0.72180993,  0.32145948,  0.80335559],\n",
       "       [ 0.64346579,  0.61466026,  0.72525395],\n",
       "       [ 0.59216266,  0.45165418,  0.01370552]])"
      ]
     },
     "execution_count": 263,
     "metadata": {},
     "output_type": "execute_result"
    }
   ],
   "source": [
    "afid_lddmm_n"
   ]
  },
  {
   "cell_type": "code",
   "execution_count": 264,
   "metadata": {},
   "outputs": [],
   "source": [
    "out_pts = r._reorient_landmarks(afid_lddmm_n - np.array([0.5,0.5,0.5]), trans_o, \"LAI\")"
   ]
  },
  {
   "cell_type": "code",
   "execution_count": 268,
   "metadata": {},
   "outputs": [],
   "source": [
    "out_pts_vox = (out_pts + np.array([0.5,0.5,0.5])) * np.array([269, 319, 177])"
   ]
  },
  {
   "cell_type": "code",
   "execution_count": 269,
   "metadata": {},
   "outputs": [
    {
     "data": {
      "text/plain": [
       "array([[ 142.91168117,  117.62030285,  134.60158903],\n",
       "       [ 145.281867  ,  231.90207632,  103.95377134],\n",
       "       [ 176.37872309,  164.96127192,   54.08485461],\n",
       "       [ 104.4805006 ,  163.67179923,   55.8905126 ],\n",
       "       [ 137.16007603,   68.12179992,   42.26232852],\n",
       "       [  58.11417535,  132.43859743,   88.36074642],\n",
       "       [ 220.33243343,  130.61461495,   86.77798403],\n",
       "       [ 143.46030329,  233.58104736,  104.62828477],\n",
       "       [ 171.84998074,  227.94573896,  142.73424964],\n",
       "       [ 113.75385217,  227.17437721,  141.68415659],\n",
       "       [ 159.07948696,   77.49651524,   29.44203593],\n",
       "       [ 116.68162741,   78.99272095,   29.18851409],\n",
       "       [ 176.5071208 ,  259.57749564,  118.80835621],\n",
       "       [ 110.21913496,  257.12689773,  118.96255277],\n",
       "       [ 118.48272612,  242.94163732,  137.32319022],\n",
       "       [ 168.05038433,  245.69165335,  139.83878881],\n",
       "       [ 135.73856746,  235.53937351,  100.99290742],\n",
       "       [ 151.13238353,  235.12052756,  101.11566148],\n",
       "       [ 100.43775556,  239.1555248 ,  102.28275181],\n",
       "       [ 180.1245172 ,  240.07261577,  106.15396202],\n",
       "       [ 142.6499963 ,  203.70888385,  133.51537914],\n",
       "       [ 160.11630295,  194.90844729,   64.53135214],\n",
       "       [ 123.41984415,  196.08152775,   65.18081419],\n",
       "       [ 133.77524528,  185.95444324,   70.24499154],\n",
       "       [ 150.3474741 ,  188.19828092,   67.08627868],\n",
       "       [ 211.31697876,  161.66084628,   70.59938853],\n",
       "       [  67.4221783 ,  163.91956004,   76.9718909 ],\n",
       "       [ 137.56856592,   80.02839933,   58.24555211],\n",
       "       [ 178.35165256,   61.90497039,   79.58291603],\n",
       "       [ 103.1637196 ,   65.43174382,   73.18183608],\n",
       "       [ 234.87951188,   63.43340247,   74.13492033],\n",
       "       [ 104.89617506,   69.33210633,  148.22331836],\n",
       "       [ 177.15184881,   67.86136811,  148.55463978],\n",
       "       [ 136.83523905,   36.35869591,   66.68607351],\n",
       "       [ 139.07769279,   60.76079414,   48.66695329],\n",
       "       [ 208.62516221,   61.0434654 ,   67.25690441],\n",
       "       [ 247.37584446,   61.50741013,  133.96869318],\n",
       "       [  28.09385136,   71.38540576,  133.68879096],\n",
       "       [ 170.85803459,   35.88089335,   73.99256184],\n",
       "       [ 106.07928415,   39.63121837,   73.58223911],\n",
       "       [ 196.46132061,   89.22029711,   80.87561089],\n",
       "       [  84.67617252,   95.69997787,   81.00784373],\n",
       "       [  86.64600266,   89.13807105,  114.12980945],\n",
       "       [ 194.77336727,   86.22529864,   99.72600203],\n",
       "       [ 198.89643657,  123.0635529 ,   67.74905407],\n",
       "       [  78.84812177,  125.24292582,   71.17705946],\n",
       "       [ 159.74985909,  147.20633516,   11.19978277],\n",
       "       [ 120.79291043,  146.77241012,   14.76008425],\n",
       "       [ 146.43346705,  124.57706863,   32.70000126],\n",
       "       [ 134.01126925,  133.80890785,   36.87183672],\n",
       "       [  86.22521358,   44.62304254,   59.20343829],\n",
       "       [ 190.6832925 ,   42.00862123,   58.60007278],\n",
       "       [  52.89734601,   88.74263324,   56.89832757],\n",
       "       [  73.90668736,  113.73441437,  108.79486601],\n",
       "       [ 265.31321422,  130.10011081,   79.94278958]])"
      ]
     },
     "execution_count": 269,
     "metadata": {},
     "output_type": "execute_result"
    }
   ],
   "source": [
    "out_pts_vox"
   ]
  },
  {
   "cell_type": "code",
   "execution_count": 236,
   "metadata": {},
   "outputs": [
    {
     "data": {
      "text/plain": [
       "array([[  5275.17123779,   8373.75092285,   5567.0208252 ],\n",
       "       [  5275.17123779,   3579.03287842,   4469.43207275],\n",
       "       [  3225.15999023,   6903.71907715,   2163.68084473],\n",
       "       [  7115.84660156,   6452.37339844,   2101.69895874],\n",
       "       [  5378.42257324,  10426.70907715,   1585.69895874],\n",
       "       [  8933.66257324,   7922.5091748 ,   3754.0703833 ],\n",
       "       [  1886.82105103,   8076.99990234,   3836.87288818],\n",
       "       [  5189.61834961,   3597.3042041 ,   4439.51421387],\n",
       "       [  3864.79370361,   3518.8104126 ,   6132.45339844],\n",
       "       [  6551.70339844,   3544.55372314,   6198.81092285],\n",
       "       [  4392.53251465,  10004.36257324,   1099.05937134],\n",
       "       [  6409.85504883,  10062.72247559,   1011.94823181],\n",
       "       [  3910.64539307,   2598.06      ,   5276.87412598],\n",
       "       [  6458.97834961,   2494.86      ,   5466.50412598],\n",
       "       [  6307.68742676,   3062.46      ,   6009.85174805],\n",
       "       [  4089.80044189,   3217.26      ,   5976.05412598],\n",
       "       [  5427.95907715,   3423.66      ,   4341.10793701],\n",
       "       [  4848.45460693,   3475.26      ,   4400.39628662],\n",
       "       [  7043.03907715,   3165.66      ,   4571.39372314],\n",
       "       [  3652.22211182,   3423.66      ,   4463.12663086],\n",
       "       [  5195.19123779,   4816.86      ,   5490.54990234],\n",
       "       [  4485.35078613,   5037.87296631,   2756.06956787],\n",
       "       [  6141.63834961,   5053.29627686,   2637.41539307],\n",
       "       [  5461.60174805,   5466.09092285,   2720.34166992],\n",
       "       [  4997.22788818,   5466.09092285,   2736.9312085 ],\n",
       "       [  2135.00668945,   6477.45092285,   2869.61539307],\n",
       "       [  8674.52752441,   6436.17092285,   3040.21001953],\n",
       "       [  5357.37      ,   9815.97092285,   2699.02045166],\n",
       "       [  3840.96460693,  10641.57155273,   2642.15211182],\n",
       "       [  6324.09587402,  10502.25092285,   2319.91540283],\n",
       "       [  1699.03833984,  10507.41092285,   3040.21001953],\n",
       "       [  6437.82247559,  10507.41092285,   6490.04165039],\n",
       "       [  4049.4750293 ,  10507.41092285,   6319.45174805],\n",
       "       [  5414.23330078,  11797.41155273,   2490.51522583],\n",
       "       [  5437.71092285,  10624.64660156,   1731.99522583],\n",
       "       [  1849.00351685,  10554.26412598,   2691.7553833 ],\n",
       "       [  1152.40343811,  10554.26412598,   5212.78669922],\n",
       "       [  9577.94009766,  10497.50412598,   5693.75009766],\n",
       "       [  4133.41793701,  11726.97679688,   2923.9553833 ],\n",
       "       [  6586.89495117,  11712.73514648,   3143.38419434],\n",
       "       [  3441.75086426,   9682.68834961,   3710.98419434],\n",
       "       [  7409.29577637,   9640.53092285,   3626.17960693],\n",
       "       [  7421.42165039,   9640.53092285,   4414.92705322],\n",
       "       [  3399.50588379,   9594.60742676,   3610.42623779],\n",
       "       [  2377.32040283,   8166.78339844,   3023.53796631],\n",
       "       [  8355.69092285,   8083.03669922,   3023.53796631],\n",
       "       [  3600.13206299,   7247.99412598,    239.21655991],\n",
       "       [  6931.89247559,   7451.24660156,    141.50938408],\n",
       "       [  5130.6395874 ,   8083.03669922,   1165.93812378],\n",
       "       [  5703.96742676,   8109.5591748 ,   1165.93812378],\n",
       "       [  7640.25742676,  11533.58009766,   2146.33812378],\n",
       "       [  3089.46213135,  11312.99009766,   2146.33812378],\n",
       "       [  8954.30257324,   9540.11752441,   2146.33812378],\n",
       "       [  8076.69      ,   8502.44165039,   4468.33796631],\n",
       "       [   224.19529175,   8019.3108252 ,   3248.98877197]])"
      ]
     },
     "execution_count": 236,
     "metadata": {},
     "output_type": "execute_result"
    }
   ],
   "source": [
    "rfid"
   ]
  },
  {
   "cell_type": "code",
   "execution_count": 237,
   "metadata": {},
   "outputs": [
    {
     "data": {
      "text/plain": [
       "array([ 6604.8,  3676.5,  5572.8])"
      ]
     },
     "execution_count": 237,
     "metadata": {},
     "output_type": "execute_result"
    }
   ],
   "source": [
    "center_raw"
   ]
  },
  {
   "cell_type": "code",
   "execution_count": 238,
   "metadata": {},
   "outputs": [
    {
     "data": {
      "text/plain": [
       "array([[ -297.62876221,  1768.95092285,  1890.5208252 ],\n",
       "       [ -297.62876221, -3025.76712158,   792.93207275],\n",
       "       [-2347.64000977,   298.91907715, -1512.81915527],\n",
       "       [ 1543.04660156,  -152.42660156, -1574.80104126],\n",
       "       [ -194.37742676,  3821.90907715, -2090.80104126],\n",
       "       [ 3360.86257324,  1317.7091748 ,    77.5703833 ],\n",
       "       [-3685.97894897,  1472.19990234,   160.37288818],\n",
       "       [ -383.18165039, -3007.4957959 ,   763.01421387],\n",
       "       [-1708.00629639, -3085.9895874 ,  2455.95339844],\n",
       "       [  978.90339844, -3060.24627686,  2522.31092285],\n",
       "       [-1180.26748535,  3399.56257324, -2577.44062866],\n",
       "       [  837.05504883,  3457.92247559, -2664.55176819],\n",
       "       [-1662.15460693, -4006.74      ,  1600.37412598],\n",
       "       [  886.17834961, -4109.94      ,  1790.00412598],\n",
       "       [  734.88742676, -3542.34      ,  2333.35174805],\n",
       "       [-1482.99955811, -3387.54      ,  2299.55412598],\n",
       "       [ -144.84092285, -3181.14      ,   664.60793701],\n",
       "       [ -724.34539307, -3129.54      ,   723.89628662],\n",
       "       [ 1470.23907715, -3439.14      ,   894.89372314],\n",
       "       [-1920.57788818, -3181.14      ,   786.62663086],\n",
       "       [ -377.60876221, -1787.94      ,  1814.04990234],\n",
       "       [-1087.44921387, -1566.92703369,  -920.43043213],\n",
       "       [  568.83834961, -1551.50372314, -1039.08460693],\n",
       "       [ -111.19825195, -1138.70907715,  -956.15833008],\n",
       "       [ -575.57211182, -1138.70907715,  -939.5687915 ],\n",
       "       [-3437.79331055,  -127.34907715,  -806.88460693],\n",
       "       [ 3101.72752441,  -168.62907715,  -636.28998047],\n",
       "       [ -215.43      ,  3211.17092285,  -977.47954834],\n",
       "       [-1731.83539307,  4036.77155273, -1034.34788818],\n",
       "       [  751.29587402,  3897.45092285, -1356.58459717],\n",
       "       [-3873.76166016,  3902.61092285,  -636.28998047],\n",
       "       [  865.02247559,  3902.61092285,  2813.54165039],\n",
       "       [-1523.3249707 ,  3902.61092285,  2642.95174805],\n",
       "       [ -158.56669922,  5192.61155273, -1185.98477417],\n",
       "       [ -135.08907715,  4019.84660156, -1944.50477417],\n",
       "       [-3723.79648315,  3949.46412598,  -984.7446167 ],\n",
       "       [-4420.39656189,  3949.46412598,  1536.28669922],\n",
       "       [ 4005.14009766,  3892.70412598,  2017.25009766],\n",
       "       [-1439.38206299,  5122.17679688,  -752.5446167 ],\n",
       "       [ 1014.09495117,  5107.93514648,  -533.11580566],\n",
       "       [-2131.04913574,  3077.88834961,    34.48419434],\n",
       "       [ 1836.49577637,  3035.73092285,   -50.32039307],\n",
       "       [ 1848.62165039,  3035.73092285,   738.42705322],\n",
       "       [-2173.29411621,  2989.80742676,   -66.07376221],\n",
       "       [-3195.47959717,  1561.98339844,  -652.96203369],\n",
       "       [ 2782.89092285,  1478.23669922,  -652.96203369],\n",
       "       [-1972.66793701,   643.19412598, -3437.28344009],\n",
       "       [ 1359.09247559,   846.44660156, -3534.99061592],\n",
       "       [ -442.1604126 ,  1478.23669922, -2510.56187622],\n",
       "       [  131.16742676,  1504.7591748 , -2510.56187622],\n",
       "       [ 2067.45742676,  4928.78009766, -1530.16187622],\n",
       "       [-2483.33786865,  4708.19009766, -1530.16187622],\n",
       "       [ 3381.50257324,  2935.31752441, -1530.16187622],\n",
       "       [ 2503.89      ,  1897.64165039,   791.83796631],\n",
       "       [-5348.60470825,  1414.5108252 ,  -427.51122803]])"
      ]
     },
     "execution_count": 238,
     "metadata": {},
     "output_type": "execute_result"
    }
   ],
   "source": [
    "rfid - center_raw[[2,0,1]]"
   ]
  },
  {
   "cell_type": "code",
   "execution_count": 242,
   "metadata": {},
   "outputs": [],
   "source": [
    "rfid_t = r._reorient_landmarks(rfid - center_raw[[2,0,1]], raw_fid_o, \"LAI\")"
   ]
  },
  {
   "cell_type": "code",
   "execution_count": 243,
   "metadata": {},
   "outputs": [],
   "source": [
    "rfid_rt = (rfid_t + center_raw[[2,0,1]])\n",
    "rfid_rtn = rfid_rt/np.array(true_size_raw)[[2,0,1]]"
   ]
  },
  {
   "cell_type": "code",
   "execution_count": 244,
   "metadata": {},
   "outputs": [
    {
     "data": {
      "text/plain": [
       "array([[ 0.5267037 ,  0.36608596,  0.75710878],\n",
       "       [ 0.5267037 ,  0.72905819,  0.6078379 ],\n",
       "       [ 0.71063379,  0.47737107,  0.29425824],\n",
       "       [ 0.36155554,  0.51153908,  0.28582877],\n",
       "       [ 0.51743984,  0.21067185,  0.21565333],\n",
       "       [ 0.19845835,  0.4002461 ,  0.51054949],\n",
       "       [ 0.83071158,  0.38855076,  0.52181054],\n",
       "       [ 0.53437963,  0.72767501,  0.6037691 ],\n",
       "       [ 0.65324489,  0.73361719,  0.83400699],\n",
       "       [ 0.41217131,  0.73166835,  0.84303154],\n",
       "       [ 0.60589537,  0.24264455,  0.14947088],\n",
       "       [ 0.42489816,  0.23822656,  0.13762386],\n",
       "       [ 0.64913101,  0.80332031,  0.71764914],\n",
       "       [ 0.42049075,  0.81113281,  0.74343861],\n",
       "       [ 0.43406479,  0.76816406,  0.8173333 ],\n",
       "       [ 0.63305695,  0.75644531,  0.81273686],\n",
       "       [ 0.51299535,  0.74082031,  0.59038596],\n",
       "       [ 0.56498936,  0.73691406,  0.59844911],\n",
       "       [ 0.36808794,  0.76035156,  0.62170457],\n",
       "       [ 0.67231714,  0.74082031,  0.60698037],\n",
       "       [ 0.53387963,  0.63535156,  0.74670881],\n",
       "       [ 0.59756758,  0.61862032,  0.37482246],\n",
       "       [ 0.44896297,  0.61745274,  0.35868562],\n",
       "       [ 0.50997687,  0.58620315,  0.36996351],\n",
       "       [ 0.5516412 ,  0.58620315,  0.37221967],\n",
       "       [ 0.80844399,  0.50964065,  0.39026457],\n",
       "       [ 0.22170834,  0.51276565,  0.41346525],\n",
       "       [ 0.5193287 ,  0.25690627,  0.36706384],\n",
       "       [ 0.65538288,  0.19440622,  0.35932981],\n",
       "       [ 0.4325926 ,  0.20495315,  0.31550597],\n",
       "       [ 0.84755972,  0.20456252,  0.41346525],\n",
       "       [ 0.42238888,  0.20456252,  0.8826386 ],\n",
       "       [ 0.63667501,  0.20456252,  0.85943856],\n",
       "       [ 0.51422684,  0.10690622,  0.33870736],\n",
       "       [ 0.5121204 ,  0.19568748,  0.23554947],\n",
       "       [ 0.83410462,  0.20101562,  0.3660758 ],\n",
       "       [ 0.89660463,  0.20101562,  0.70893332],\n",
       "       [ 0.1406528 ,  0.20531249,  0.77434382],\n",
       "       [ 0.62914352,  0.11223831,  0.39765475],\n",
       "       [ 0.40901388,  0.11331644,  0.42749683],\n",
       "       [ 0.69120093,  0.2669961 ,  0.50468981],\n",
       "       [ 0.33522684,  0.27018752,  0.49315648],\n",
       "       [ 0.33413888,  0.27018752,  0.60042528],\n",
       "       [ 0.69499122,  0.27366405,  0.49101404],\n",
       "       [ 0.78670324,  0.38175392,  0.41119787],\n",
       "       [ 0.25031484,  0.38809376,  0.41119787],\n",
       "       [ 0.67699074,  0.45130858,  0.03253319],\n",
       "       [ 0.37806018,  0.43592186,  0.01924512],\n",
       "       [ 0.5396713 ,  0.38809376,  0.15856632],\n",
       "       [ 0.48823146,  0.38608594,  0.15856632],\n",
       "       [ 0.31450461,  0.12687893,  0.29189965],\n",
       "       [ 0.72280881,  0.14357815,  0.29189965],\n",
       "       [ 0.1966065 ,  0.27778907,  0.29189965],\n",
       "       [ 0.27534722,  0.35634375,  0.6076891 ],\n",
       "       [ 0.97988486,  0.39291797,  0.44185894]])"
      ]
     },
     "execution_count": 244,
     "metadata": {},
     "output_type": "execute_result"
    }
   ],
   "source": [
    "rfid_rtn"
   ]
  },
  {
   "cell_type": "code",
   "execution_count": 245,
   "metadata": {},
   "outputs": [],
   "source": [
    "rfid_vox = rfid_rtn * np.array([269, 319, 177])"
   ]
  },
  {
   "cell_type": "code",
   "execution_count": 270,
   "metadata": {},
   "outputs": [
    {
     "data": {
      "text/plain": [
       "array([ 263.58902764,  125.34083142,   78.20903205])"
      ]
     },
     "execution_count": 270,
     "metadata": {},
     "output_type": "execute_result"
    }
   ],
   "source": [
    "rfid_vox[-1]"
   ]
  },
  {
   "cell_type": "code",
   "execution_count": 271,
   "metadata": {},
   "outputs": [
    {
     "data": {
      "text/plain": [
       "array([ 265.31321422,  130.10011081,   79.94278958])"
      ]
     },
     "execution_count": 271,
     "metadata": {},
     "output_type": "execute_result"
    }
   ],
   "source": [
    "out_pts_vox[-1]"
   ]
  },
  {
   "cell_type": "code",
   "execution_count": 280,
   "metadata": {},
   "outputs": [
    {
     "data": {
      "text/plain": [
       "[[142.875, 117.625, 134.625],\n",
       " [145.25, 231.875, 103.9375],\n",
       " [176.375, 165.0, 54.09375],\n",
       " [104.5, 163.625, 55.875],\n",
       " [137.125, 68.125, 42.25],\n",
       " [58.125, 132.5, 88.375],\n",
       " [220.375, 130.625, 86.75],\n",
       " [143.5, 233.625, 104.625],\n",
       " [171.875, 228.0, 142.75],\n",
       " [113.75, 227.125, 141.625],\n",
       " [159.125, 77.5, 29.4375],\n",
       " [116.6875, 79.0, 29.1875],\n",
       " [176.5, 259.5, 118.8125],\n",
       " [110.25, 257.25, 118.9375],\n",
       " [118.5, 243.0, 137.375],\n",
       " [168.0, 245.75, 139.875],\n",
       " [135.75, 235.5, 101.0],\n",
       " [151.125, 235.125, 101.125],\n",
       " [100.4375, 239.125, 102.3125],\n",
       " [180.125, 240.125, 106.125],\n",
       " [142.625, 203.75, 133.5],\n",
       " [160.125, 194.875, 64.5625],\n",
       " [123.4375, 196.125, 65.1875],\n",
       " [133.75, 186.0, 70.25],\n",
       " [150.375, 188.25, 67.0625],\n",
       " [211.375, 161.625, 70.625],\n",
       " [67.4375, 163.875, 77.0],\n",
       " [137.625, 80.0, 58.25],\n",
       " [178.375, 61.90625, 79.5625],\n",
       " [103.1875, 65.4375, 73.1875],\n",
       " [234.875, 63.4375, 74.125],\n",
       " [104.875, 69.3125, 148.25],\n",
       " [177.125, 67.875, 148.5],\n",
       " [136.875, 36.34375, 66.6875],\n",
       " [139.125, 60.75, 48.65625],\n",
       " [208.625, 61.03125, 67.25],\n",
       " [247.375, 61.5, 134.0],\n",
       " [28.09375, 71.375, 133.75],\n",
       " [170.875, 35.875, 74.0],\n",
       " [106.0625, 39.625, 73.5625],\n",
       " [196.5, 89.25, 80.875],\n",
       " [84.6875, 95.6875, 81.0],\n",
       " [86.625, 89.125, 114.125],\n",
       " [194.75, 86.25, 99.75],\n",
       " [198.875, 123.0625, 67.75],\n",
       " [78.875, 125.25, 71.1875],\n",
       " [159.75, 147.25, 11.203125],\n",
       " [120.8125, 146.75, 14.7578125],\n",
       " [146.375, 124.5625, 32.6875],\n",
       " [134.0, 133.75, 36.875],\n",
       " [86.25, 44.625, 59.21875],\n",
       " [190.625, 42.0, 58.59375],\n",
       " [52.90625, 88.75, 56.90625],\n",
       " [73.9375, 113.75, 108.8125],\n",
       " [265.25, 130.125, 79.9375]]"
      ]
     },
     "execution_count": 280,
     "metadata": {},
     "output_type": "execute_result"
    }
   ],
   "source": [
    "out_pts_vox.astype('float16').tolist()"
   ]
  },
  {
   "cell_type": "markdown",
   "metadata": {},
   "source": [
    "## add transformed fiducials to image"
   ]
  },
  {
   "cell_type": "code",
   "execution_count": 281,
   "metadata": {},
   "outputs": [],
   "source": [
    "link = \"https://viz.boss.neurodata.io/#!{'layers':{'control9,res3,rescaled':{'type':'image'_'source':'boss://https://api.boss.neurodata.io/control9_to_ara/daniel_reg/control9_res3_rescaled'_'opacity':0.5_'color':2}_'atlas,to,control9':{'type':'image'_'source':'boss://https://api.boss.neurodata.io/control9_to_ara/daniel_reg/atlas_to_control9'_'opacity':0.5_'color':5}}_'navigation':{'pose':{'position':{'voxelSize':[41280_41280_41280]_'voxelCoordinates':[248.32693481445312_125.8307876586914_80.39444732666016]}}_'zoomFactor':41280}_'perspectiveOrientation':[0.0009365863515995443_-0.008762896060943604_0.9997307658195496_0.021431967616081238]_'perspectiveZoom':377107.4582453634_'layout':'4panel'}\""
   ]
  },
  {
   "cell_type": "code",
   "execution_count": 282,
   "metadata": {},
   "outputs": [
    {
     "name": "stdout",
     "output_type": "stream",
     "text": [
      "replaced commas\n",
      "source\n",
      "replaced commas\n",
      "replaced commas\n",
      "source\n",
      "replaced commas\n"
     ]
    },
    {
     "name": "stderr",
     "output_type": "stream",
     "text": [
      "/usr/local/lib/python2.7/dist-packages/ipykernel_launcher.py:28: DeprecationWarning: BaseException.message has been deprecated as of Python 2.6\n"
     ]
    }
   ],
   "source": [
    "link_a = add_points_layer_to_viz_link(link, 'atlas_fiducials', points=out_pts_vox.tolist())\n",
    "link_r = add_points_layer_to_viz_link(link, 'raw_fiducials', points=rfid_vox.astype('float16').tolist())"
   ]
  },
  {
   "cell_type": "code",
   "execution_count": 283,
   "metadata": {},
   "outputs": [
    {
     "name": "stdout",
     "output_type": "stream",
     "text": [
      "replaced commas\n",
      "source\n",
      "source\n",
      "replaced commas\n"
     ]
    },
    {
     "name": "stderr",
     "output_type": "stream",
     "text": [
      "/usr/local/lib/python2.7/dist-packages/ipykernel_launcher.py:28: DeprecationWarning: BaseException.message has been deprecated as of Python 2.6\n"
     ]
    }
   ],
   "source": [
    "link_ar = add_points_layer_to_viz_link(link_r, 'atlas_fiducials', points=out_pts_vox.astype('float16').tolist())"
   ]
  },
  {
   "cell_type": "code",
   "execution_count": 286,
   "metadata": {},
   "outputs": [
    {
     "name": "stdout",
     "output_type": "stream",
     "text": [
      "replaced commas\n",
      "source\n",
      "replaced commas\n",
      "source\n"
     ]
    },
    {
     "name": "stderr",
     "output_type": "stream",
     "text": [
      "/usr/local/lib/python2.7/dist-packages/ipykernel_launcher.py:28: DeprecationWarning: BaseException.message has been deprecated as of Python 2.6\n"
     ]
    }
   ],
   "source": [
    "link_a2 = add_points_layer_to_viz_link(link_a, 'raw_fiducials', points=rfid_vox.tolist())"
   ]
  }
 ],
 "metadata": {
  "kernelspec": {
   "display_name": "Python 2",
   "language": "python",
   "name": "python2"
  },
  "language_info": {
   "codemirror_mode": {
    "name": "ipython",
    "version": 2
   },
   "file_extension": ".py",
   "mimetype": "text/x-python",
   "name": "python",
   "nbconvert_exporter": "python",
   "pygments_lexer": "ipython2",
   "version": "2.7.12"
  }
 },
 "nbformat": 4,
 "nbformat_minor": 2
}
